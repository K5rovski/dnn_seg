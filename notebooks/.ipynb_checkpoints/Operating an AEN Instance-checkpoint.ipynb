{
 "cells": [
  {
   "cell_type": "markdown",
   "metadata": {},
   "source": [
    "# Operating the Stacked Auto Encoder Denoising Model\n",
    "\n",
    "This module operates(trains and tests) autoencoder neural network.\n",
    "The neural network architecture is simply constructed, and follows the DNN Pixel Classifier model, with the the last layers removed.\n",
    "\n",
    "+ The main idea is to create a stacked, densifying pyramidal set of representations, of the _input patch_.\n",
    "With the added step that the representations act as **denoising** representations of the input\n",
    "\n",
    "\n",
    "\n",
    "This **denoising** principle is better explained in Section 3 of <sup>[[vincent2010]](http://www.jmlr.org/papers/volume11/vincent10a/vincent10a.pdf)</sup>.\n",
    "\n",
    "![sdae basic architecture](https://i.imgur.com/VdfvPsO.png)\n",
    "In this image:\n",
    "+ **x = corrected(true) image patch**\n",
    "+ **x<sup>~</sup> = interim/(considered stochastic, damaged) patch version**.\n",
    "\n",
    "The autoencoding neural network <b><i>f<sub>&theta;</sub> </i></b> first creates hierarchical representations \n",
    "<b><i>y </i></b> , of the <b><i>interim(stochastic) - x<sup>~</sup> patch.</i></b> Then from <b><i>y </i></b>, the decoder <b><i> g<sub>&theta;'</sub> <b><i> creates representation <b><i>z</i></b> patch, which is compared to the <b><i>x - corrected(true) patch</i></b>. The loss is then calculated using a Loss Cross Entropy Function  <b><i> L<sub>&Eta;</sub>(x,z) </i></b>\n",
    "\n",
    "The original paper supposes that the **corrupting process** <b><i> x˜ ∼ q<sub>D</sub>(x˜|x) </i></b> can be:\n",
    "+ Gaussian noise;\n",
    "+ Masking noise;\n",
    "+ Salt/Pepper noise.\n",
    "\n",
    "\n",
    "\n",
    "*(Our motivation was viewing the **interim version** as a **noisy,corrupted version** of the **corrected** image patch.)*\n",
    "\n",
    "------\n",
    "\n",
    "\n",
    "\n",
    "\n",
    "Using this notebook, an AEN model can be:\n",
    " 1. Trained from a lmdb training database, with **specific** train parameters;\n",
    " 2. Tested by visualising an already trained SDAE neural network.\n"
   ]
  },
  {
   "cell_type": "markdown",
   "metadata": {},
   "source": [
    "____"
   ]
  },
  {
   "cell_type": "markdown",
   "metadata": {},
   "source": [
    "## Importing Modules\n",
    "\n",
    "+ The main computational libraries are again [Keras](https://keras.io/), and [Tensorflow](https://www.tensorflow.org/).\n",
    "\n"
   ]
  },
  {
   "cell_type": "code",
   "execution_count": 1,
   "metadata": {},
   "outputs": [
    {
     "name": "stderr",
     "output_type": "stream",
     "text": [
      "Using TensorFlow backend.\n"
     ]
    },
    {
     "name": "stdout",
     "output_type": "stream",
     "text": [
      "Every import is succesful !\n"
     ]
    }
   ],
   "source": [
    "%matplotlib inline\n",
    "import time\n",
    "\n",
    "import os\n",
    "import sys\n",
    "import time\n",
    "from os.path import join\n",
    "\n",
    "import cv2\n",
    "import keras.backend.tensorflow_backend as KTF\n",
    "import lmdb\n",
    "import numpy as np\n",
    "import tensorflow as tf\n",
    "from keras.callbacks import ModelCheckpoint, EarlyStopping, TensorBoard\n",
    "from keras.models import load_model\n",
    "import matplotlib.pyplot as plt\n",
    "\n",
    "sys.path.append(\"../..\")\n",
    "\n",
    "import dnn_segmentation.net.utils as net_utils\n",
    "\n",
    "\n",
    "from dnn_segmentation.net.utils.models import  get_autoencoded\n",
    "from dnn_segmentation.net.utils.train_h import iterate_indef, \\\n",
    "    get_session, make_split_map, draw_autoenc_smaller\n",
    "\n",
    "    \n",
    "print('Every import is succesful !')"
   ]
  },
  {
   "cell_type": "markdown",
   "metadata": {},
   "source": [
    "## Setting Training Parameters\n",
    "\n",
    "\n",
    "These parameters deals with setting up training parameters, of a new AEN network.\n",
    "\n",
    "**Skip if just Visualising.**\n",
    "\n",
    "The parameters are:\n",
    "+ train/visualise **boolean** setup flag;\n",
    "+ database,model,logging locations;\n",
    "+ Image patching parameters;\n",
    "+ new AEN parameters:\n",
    "   1. optimizer,\n",
    "   2. loss function,\n",
    "   3. batch size,\n",
    "   4. train epoch number,\n",
    "   5. other config parameters.\n",
    "\n"
   ]
  },
  {
   "cell_type": "code",
   "execution_count": 2,
   "metadata": {},
   "outputs": [],
   "source": [
    "# MAIN CONFIG FLAG, False if new training\n",
    "justDraw=True\n",
    "\n",
    "\n",
    "KTF.set_session(get_session(0.8))\n",
    "\n",
    "train_lmdb=r'#####\\train_db'\n",
    "val_lmdb=r'#########\\val_db'\n",
    "\n",
    "model_locs=r'../test_data'\n",
    "log_loc=r'../test_data/logs'\n",
    "img_w,img_h=45,45\n",
    "big_img_size=2048\n",
    "\n",
    "# optimizer = SGD(lr=0.0001, decay=0.0005,\n",
    "# momentum=0.9, nesterov=True)\n",
    "optimizer='adadelta'\n",
    "\n",
    "\n",
    "loss_func='categorical_crossentropy'\n",
    "\n",
    "batch_size=500\n",
    "epoch_count=1\n",
    "split_patches=True   #True for normal autoenc\n",
    "do_single_map=False    #False for normal autoenc\n",
    "\n",
    "np.random.seed(None)\n",
    "quick_str=''.join(map(chr,np.random.randint(97,97+26,(4,))) )\n",
    "\n",
    "weights_prepend='weights_autoenc_'+quick_str\n"
   ]
  },
  {
   "cell_type": "markdown",
   "metadata": {},
   "source": [
    "##  Train Callback Parameters\n",
    "\n",
    "\n",
    "\n",
    "This block deals with the possible callback functions called during **training**.\n",
    "\n",
    "An additional history callback can be activated, which saves the training AEN (validation loss) curve.\n"
   ]
  },
  {
   "cell_type": "code",
   "execution_count": 3,
   "metadata": {
    "collapsed": true
   },
   "outputs": [],
   "source": [
    "\n",
    "# hist_loc=r'!!!!!'\n",
    "# log_losses=net_utils.LogLossesCallback(123500//batch_size,1,model_id=quick_str,save_loc=hist_loc)\n",
    "\n",
    "\n",
    "save_model_call=ModelCheckpoint(os.path.join(model_locs,weights_prepend+'.{epoch:02d}-{val_loss:.4f}.hdf5'),\n",
    "                                verbose=1,monitor='val_loss'\n",
    "                                )\n",
    "earlystop_call=EarlyStopping(monitor='val_loss', min_delta=0.0001, patience=5, verbose=1, mode='auto')\n",
    "tensor_call=TensorBoard(log_dir=log_loc, histogram_freq=3, write_graph=True, write_images=True)\n",
    "\n",
    "\n",
    "\n",
    "\n",
    "all_calls=[save_model_call,earlystop_call,tensor_call,\n",
    "#           log_losses\n",
    "          ]\n"
   ]
  },
  {
   "cell_type": "markdown",
   "metadata": {},
   "source": [
    "## Subsampling Visual Test Input\n",
    "\n",
    "This next code block visualises specific patches from the Frontal Lobe ml dataset 1.\n",
    "\n",
    "The main setup parameters are:\n",
    "\n",
    "1. Just Draw, Config Flag,\n",
    "\n",
    "  -> whether to execute new visualization;\n",
    "2. location of new visualised patches location.\n",
    "\n",
    "The other parameters can be changed with **other image data**, or other already **trained AEN models**.\n",
    "\n"
   ]
  },
  {
   "cell_type": "code",
   "execution_count": 5,
   "metadata": {},
   "outputs": [
    {
     "name": "stdout",
     "output_type": "stream",
     "text": [
      "(2048, 2048) (2048, 2048)\n",
      "(None, 48, 48, 3)\n",
      "convolution2d_1 (None, 48, 48, 80)\n",
      "240\n",
      "(9, 48, 48) (162, 162) 0\n"
     ]
    },
    {
     "ename": "SystemExit",
     "evalue": "Im am done with everything!!",
     "output_type": "error",
     "traceback": [
      "An exception has occurred, use %tb to see the full traceback.\n",
      "\u001b[0;31mSystemExit\u001b[0m\u001b[0;31m:\u001b[0m Im am done with everything!!\n"
     ]
    },
    {
     "name": "stderr",
     "output_type": "stream",
     "text": [
      "/home/kiks/miniconda3/envs/tensorflow_fast/lib/python3.5/site-packages/IPython/core/interactiveshell.py:2971: UserWarning: To exit: use 'exit', 'quit', or Ctrl-D.\n",
      "  warn(\"To exit: use 'exit', 'quit', or Ctrl-D.\", stacklevel=1)\n"
     ]
    },
    {
     "data": {
      "image/png": "[encoded data removed]",
      "text/plain": [
       "<matplotlib.figure.Figure at 0x7f13874c6b00>"
      ]
     },
     "metadata": {},
     "output_type": "display_data"
    },
    {
     "data": {
      "image/png": "[encoded data removed]",
      "text/plain": [
       "<matplotlib.figure.Figure at 0x7f1386a324e0>"
      ]
     },
     "metadata": {},
     "output_type": "display_data"
    }
   ],
   "source": [
    "\n",
    "\n",
    "\n",
    "\n",
    "# MAIN CONFIG FLAG, False if new training\n",
    "justDraw=True\n",
    "\n",
    "\n",
    "draw_encoded_loc=r'../test_data/encoded_maps_vis'\n",
    "\n",
    "\n",
    "\n",
    "# ---------------------------------------------------------\n",
    "# ---------------------------------------------------------\n",
    "# ---------------------------------------------------------\n",
    "# ---------------------------------------------------------\n",
    "# ---------------------------------------------------------\n",
    "# ---------------------------------------------------------\n",
    "\n",
    "\n",
    "\n",
    "model_loc=r'../test_data/weights_autoenc_dvov.hdf5'\n",
    "\n",
    "\n",
    "img1 = cv2.imread(r'../test_data/interim_used/sp13909-img04-interim.tif', 0)\n",
    "img2=cv2.imread(r'../test_data/Consensus corrected/sp13909-img04-corrected.tif',0)\n",
    "print(img1.shape,img2.shape)\n",
    "\n",
    "\n",
    "import matplotlib as mp\n",
    "mp.rcParams.update({'font.size' :25,'lines.linewidth':3,\n",
    "                    'savefig.bbox':'tight','axes.labelsize':35})\n",
    "\n",
    "\n",
    "if justDraw:\n",
    "    model=load_model(model_loc,custom_objects={'tf':tf})\n",
    "    print(model.layers[0].input_shape)\n",
    "    mod_name=model_loc[model_loc.index('weights_autoenc_'):]\n",
    "    \n",
    "    if not os.path.exists(draw_encoded_loc): os.makedirs(draw_encoded_loc)\n",
    "\n",
    "    patchs=[]\n",
    "\n",
    "    for img in [img1,img2]:\n",
    "        patchs.append( img[834 - 22:834 + 23, 676 - 22:676 + 23])\n",
    "\n",
    "        xcor, ycor = 1352, 922\n",
    "        patchs.append(img[xcor - 22:xcor + 23, ycor - 22:ycor + 23])\n",
    "        xcor, ycor = 1043, 871\n",
    "        patchs.append(img[xcor - 22:xcor + 23, ycor - 22:ycor + 23])\n",
    "        xcor, ycor = 1180, 1192\n",
    "        patchs.append(img[xcor - 22:xcor + 23, ycor - 22:ycor + 23])\n",
    "        xcor, ycor = 1458, 1134\n",
    "        patchs.append(img[xcor - 22:xcor + 23, ycor - 22:ycor + 23])\n",
    "        xcor, ycor = 1465, 934\n",
    "        patchs.append(img[xcor - 22:xcor + 23, ycor - 22:ycor + 23])\n",
    "\n",
    "\n",
    "    patchs=np.array(patchs)\n",
    "\n",
    "\n",
    "    real_vals = make_split_map(patchs[:6],dopad=True)\n",
    "    real_vals2=make_split_map(patchs[6:],dopad=True,split_map=[1,2,3])\n",
    "    patches = np.zeros((2, 6, 48, 48, 3), dtype=np.uint8)\n",
    "    patches[0,:]=real_vals\n",
    "    patches[1,:]=real_vals2\n",
    "    \n",
    "    \n",
    "    plt.suptitle('AEN Input')\n",
    "    plt.imshow(patchs[0],cmap='gray')\n",
    "    \n",
    "    draw_autoenc_smaller(model,draw_encoded_loc,patches,suff=mod_name+'__',doShow=True)\n",
    "    plt.suptitle('AEN learned features')\n",
    "\n",
    "#    draw_autoenc(model, img_w, img_h, draw_loc, val_lmdb)\n",
    "    sys.exit('Im am done with everything!!')\n",
    "\n",
    "\n",
    "\n",
    "\n"
   ]
  },
  {
   "cell_type": "markdown",
   "metadata": {},
   "source": [
    "## New training of AEN Network\n",
    "\n",
    "This next block computes:\n",
    "\n",
    "1. Obtaining the AEN neural network architecture;\n",
    "2. Setup of the needed Data Bases;\n",
    "3. Actually training the AEN.\n",
    "\n",
    "\n",
    "\n"
   ]
  },
  {
   "cell_type": "code",
   "execution_count": null,
   "metadata": {
    "collapsed": true
   },
   "outputs": [],
   "source": [
    "if not justDraw:\n",
    "    model = get_autoencoded(img_w, img_h,)\n",
    "\n",
    "\n",
    "    lmdbval_env=lmdb.open(val_lmdb)\n",
    "    lmdbval_txn=lmdbval_env.begin()\n",
    "\n",
    "    lmdbtrain_env=lmdb.open(train_lmdb)\n",
    "    lmdbtrain_txn=lmdbtrain_env.begin()\n",
    "    train_size=lmdbtrain_env.stat()['entries']\n",
    "    val_size=8lmdbval_env.stat()['entries']\n",
    "    \n",
    "\n",
    "    start_t=time.time()\n",
    "\n",
    "\n",
    "\n",
    "    # DISABLED HISTORY LOGGING CODE\n",
    "    # oneI=iterate_indef(lmdbval_txn, batch_size, img_w * 2, img_h, two_patch_instance=True,\n",
    "    #               do_continuous=True, split_map=split_patches,do_single_patch=do_single_map)\n",
    "    # raw_patches=[next(oneI) for ind in range(5)]\n",
    "    # val_data_x,val_data_y=np.concatenate([i[0] for i in raw_patches]), \\\n",
    "    #                       np.concatenate([i[1] for i in raw_patches])\n",
    "    # oneI=None\n",
    "    # log_losses.val_data=val_data_x,val_data_y\n",
    "\n",
    "\n",
    "\n",
    "\n",
    "    history_mod=model.fit_generator(\n",
    "        iterate_indef(lmdbtrain_txn,batch_size,img_w*2,img_h,\n",
    "                      do_continuous=True,split_map=split_patches,\n",
    "                      do_single_patch=do_single_map,two_patch_instance=True,),\n",
    "                samples_per_epoch=train_size-train_size%batch_size,\n",
    "                        nb_epoch=epoch_count,\n",
    "\n",
    "              verbose=1,\n",
    "            callbacks=all_calls,\n",
    "            validation_data= \\\n",
    "            iterate_indef(lmdbval_txn, batch_size, img_w*2, img_h,two_patch_instance=True,\n",
    "                          do_single_patch=do_single_map,do_continuous=True,split_map=split_patches),\n",
    "            nb_val_samples=val_size-val_size%batch_size )\n",
    "\n",
    "\n",
    "    lmdbtrain_env.close()"
   ]
  },
  {
   "cell_type": "markdown",
   "metadata": {},
   "source": [
    "## Possibly Validate AEN\n",
    "\n",
    "+ This last code block can validate the **already trained** AEN network"
   ]
  },
  {
   "cell_type": "code",
   "execution_count": 1,
   "metadata": {
    "collapsed": true
   },
   "outputs": [
    {
     "ename": "NameError",
     "evalue": "name 'lmdbval_env' is not defined",
     "output_type": "error",
     "traceback": [
      "\u001b[1;31m---------------------------------------------------------------------------\u001b[0m",
      "\u001b[1;31mNameError\u001b[0m                                 Traceback (most recent call last)",
      "\u001b[1;32m<ipython-input-1-5e188d869a37>\u001b[0m in \u001b[0;36m<module>\u001b[1;34m()\u001b[0m\n\u001b[0;32m      9\u001b[0m \u001b[1;33m\u001b[0m\u001b[0m\n\u001b[0;32m     10\u001b[0m \u001b[1;33m\u001b[0m\u001b[0m\n\u001b[1;32m---> 11\u001b[1;33m \u001b[0mlmdbval_env\u001b[0m\u001b[1;33m.\u001b[0m\u001b[0mclose\u001b[0m\u001b[1;33m(\u001b[0m\u001b[1;33m)\u001b[0m\u001b[1;33m\u001b[0m\u001b[0m\n\u001b[0m",
      "\u001b[1;31mNameError\u001b[0m: name 'lmdbval_env' is not defined"
     ]
    }
   ],
   "source": [
    "\n",
    "\n",
    "score = model.evaluate_generator(\n",
    "    iterate_indef(lmdbval_txn, batch_size, img_w,\n",
    "                  img_h, do_continuous=True),\n",
    "        val_samples=val_size-val_size%batch_size, )\n",
    "\n",
    "print('Test score:', score[0])\n",
    "print('Test accuracy:', score[1])\n",
    "\n",
    "\n",
    "lmdbval_env.close()"
   ]
  },
  {
   "cell_type": "code",
   "execution_count": null,
   "metadata": {
    "collapsed": true
   },
   "outputs": [],
   "source": []
  }
 ],
 "metadata": {
  "kernelspec": {
   "display_name": "Python 3",
   "language": "python",
   "name": "python3"
  },
  "language_info": {
   "codemirror_mode": {
    "name": "ipython",
    "version": 3
   },
   "file_extension": ".py",
   "mimetype": "text/x-python",
   "name": "python",
   "nbconvert_exporter": "python",
   "pygments_lexer": "ipython3",
   "version": "3.5.5"
  }
 },
 "nbformat": 4,
 "nbformat_minor": 2
}
